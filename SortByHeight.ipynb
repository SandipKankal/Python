{
  "nbformat": 4,
  "nbformat_minor": 0,
  "metadata": {
    "colab": {
      "provenance": [],
      "authorship_tag": "ABX9TyP2e8S03qtb7iMw0QeTm0Uy",
      "include_colab_link": true
    },
    "kernelspec": {
      "name": "python3",
      "display_name": "Python 3"
    },
    "language_info": {
      "name": "python"
    }
  },
  "cells": [
    {
      "cell_type": "markdown",
      "metadata": {
        "id": "view-in-github",
        "colab_type": "text"
      },
      "source": [
        "<a href=\"https://colab.research.google.com/github/SandipKankal/Python/blob/main/SortByHeight.ipynb\" target=\"_parent\"><img src=\"https://colab.research.google.com/assets/colab-badge.svg\" alt=\"Open In Colab\"/></a>"
      ]
    },
    {
      "cell_type": "code",
      "execution_count": 1,
      "metadata": {
        "colab": {
          "base_uri": "https://localhost:8080/",
          "height": 70
        },
        "id": "HlDNbCy3BPRO",
        "outputId": "d9fc7b22-0c97-4d8c-b9c9-ae4f59b888f7"
      },
      "outputs": [
        {
          "output_type": "execute_result",
          "data": {
            "text/plain": [
              "'\\nSome people are standing in a row in a park. There are trees between them which cannot be moved. Your task is to rearrange the people by their heights in a non-descending order without moving the trees. People can be very tall!\\nExample\\nFor a = [-1, 150, 190, 170, -1, -1, 160, 180], the output should be\\nsortByHeight(a) = [-1, 150, 160, 170, -1, -1, 180, 190].\\n'"
            ],
            "application/vnd.google.colaboratory.intrinsic+json": {
              "type": "string"
            }
          },
          "metadata": {},
          "execution_count": 1
        }
      ],
      "source": [
        "'''\n",
        "Some people are standing in a row in a park. There are trees between them which cannot be moved. Your task is to rearrange the people by their heights in a non-descending order without moving the trees. People can be very tall!\n",
        "Example\n",
        "For a = [-1, 150, 190, 170, -1, -1, 160, 180], the output should be\n",
        "sortByHeight(a) = [-1, 150, 160, 170, -1, -1, 180, 190].\n",
        "'''"
      ]
    },
    {
      "cell_type": "code",
      "source": [
        "def sortByheight(a):\n",
        "  n_list = [x for x in a if x != -1]\n",
        "  n_list.sort()\n",
        "\n",
        "  result = []\n",
        "  k = 0\n",
        "  for element in a:\n",
        "    if element == -1:\n",
        "      result.append(-1)\n",
        "    else:\n",
        "      result.append(n_list[k])\n",
        "      k = k+1\n",
        "  return result\n",
        "if __name__ =='__main__':\n",
        "  height = [-1, 150, 190, 170, -1, -1, 160, 180]\n",
        "  print(sortByheight(height))\n"
      ],
      "metadata": {
        "colab": {
          "base_uri": "https://localhost:8080/"
        },
        "id": "_7DkDzaIBycv",
        "outputId": "4dcba3f2-613f-479a-e7e3-5d5a4daf3594"
      },
      "execution_count": 7,
      "outputs": [
        {
          "output_type": "stream",
          "name": "stdout",
          "text": [
            "[-1, 150, 160, 170, -1, -1, 180, 190]\n"
          ]
        }
      ]
    }
  ]
}